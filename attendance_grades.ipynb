{
 "cells": [
  {
   "cell_type": "markdown",
   "id": "709990dc-d406-465a-a67f-3b495d22666d",
   "metadata": {
    "editable": true,
    "slideshow": {
     "slide_type": ""
    },
    "tags": []
   },
   "source": [
    "# End of Semester Statistical Analysis\n",
    "\n",
    "This notebook uses Python in order to analyze the relationship between attendance and students' final grades."
   ]
  },
  {
   "cell_type": "markdown",
   "id": "68b16e09-6ab9-45b9-9149-636f4a4a015d",
   "metadata": {},
   "source": [
    "## Import Python Libraries"
   ]
  },
  {
   "cell_type": "code",
   "execution_count": null,
   "id": "f04a2ca9-c897-46aa-924b-7bf1e12a0cce",
   "metadata": {},
   "outputs": [],
   "source": [
    "import pandas as pd\n",
    "import numpy as np\n",
    "import matplotlib.pyplot as plt\n",
    "from sklearn.linear_model import LinearRegression\n",
    "from sklearn.metrics import mean_squared_error, r2_score\n",
    "import os"
   ]
  },
  {
   "cell_type": "markdown",
   "id": "21aa66eb-22ac-47b1-bac6-aca50aebcc2f",
   "metadata": {},
   "source": [
    "## Choose the Data File"
   ]
  },
  {
   "cell_type": "code",
   "execution_count": null,
   "id": "02502691-8d48-4b00-9052-3937cc910645",
   "metadata": {},
   "outputs": [],
   "source": [
    "# Set the path to the current directory\n",
    "folder_path = '.'\n",
    "\n",
    "# List all files and directories in the current directory\n",
    "contents = os.listdir(folder_path)\n",
    "\n",
    "# Print whether each item is a file or a directory\n",
    "for item in contents:\n",
    "    item_path = os.path.join(folder_path, item)\n",
    "    if os.path.isfile(item_path):\n",
    "        print(f\"File: {item}\")\n",
    "    elif os.path.isdir(item_path):\n",
    "        print(f\"Directory: {item}\")"
   ]
  },
  {
   "attachments": {},
   "cell_type": "markdown",
   "id": "0a24ce04-02b3-4876-a908-b67c786efa91",
   "metadata": {},
   "source": [
    "## Load the Data\n",
    "\n",
    "It may be necessary to change the filename used. To do this, we can access the contents of the folder that this notebook is stored in which were listed in the previous operation. Then change the file name the line where it says \"Change file name or path here.\"\n",
    "\n",
    "If you can see 10 rows below the cell after running it, then the data has loaded successfully and you may continue without any errors."
   ]
  },
  {
   "cell_type": "code",
   "execution_count": null,
   "id": "a4516f14-1649-4049-849a-624bb5ea750f",
   "metadata": {},
   "outputs": [],
   "source": [
    "file_path = 'file_goes_here.csv' # Change file name or path here.\n",
    "data = pd.read_csv(file_path)\n",
    "\n",
    "# Display the first 10 rows of the DataFrame\n",
    "data.head(10)"
   ]
  },
  {
   "cell_type": "markdown",
   "id": "2322e48b-5088-4162-9e7a-a2900e923edf",
   "metadata": {},
   "source": [
    "## Cubic Regression Model for Analyzation"
   ]
  },
  {
   "cell_type": "code",
   "execution_count": null,
   "id": "9ae1258e-e616-4adb-a033-1145765b9d0d",
   "metadata": {},
   "outputs": [],
   "source": [
    "# Fit a cubic regression model\n",
    "cubic_fit = np.polyfit(data['Absence_Percentage'], data['Semester_Total'], 3)"
   ]
  },
  {
   "cell_type": "markdown",
   "id": "0be0e3c7-9996-474d-be91-c74118718437",
   "metadata": {},
   "source": [
    "## Linear Regression Model for Analyzation"
   ]
  },
  {
   "cell_type": "code",
   "execution_count": null,
   "id": "d7214460-e48d-431e-95f4-a950e5b966f1",
   "metadata": {},
   "outputs": [],
   "source": [
    "# Fit a linear regression model\n",
    "linear_regressor = LinearRegression()\n",
    "linear_regressor.fit(data['Absence_Percentage'].values.reshape(-1, 1), data['Semester_Total'])"
   ]
  },
  {
   "cell_type": "markdown",
   "id": "3366570e-3149-49c2-aca3-92a7ef683a76",
   "metadata": {},
   "source": [
    "## Higher-degree Polynomial Regression for Analyzation"
   ]
  },
  {
   "cell_type": "code",
   "execution_count": null,
   "id": "46cc9481-c749-411b-9f1f-4ddc866be870",
   "metadata": {},
   "outputs": [],
   "source": [
    "# Fit a higher-degree polynomial regression\n",
    "degree = 5\n",
    "coeffs_higher_degree = np.polyfit(data['Absence_Percentage'], data['Semester_Total'], degree)"
   ]
  },
  {
   "cell_type": "markdown",
   "id": "6da17de6-6d9e-4e61-a6f9-874466356523",
   "metadata": {},
   "source": [
    "## Generate the Charts Parameters"
   ]
  },
  {
   "cell_type": "code",
   "execution_count": null,
   "id": "3a44aab9-921a-44f6-883b-cf007eabc383",
   "metadata": {},
   "outputs": [],
   "source": [
    "# Generate x values (Absence Percentage) for prediction\n",
    "x_values = np.linspace(data['Absence_Percentage'].min(), data['Absence_Percentage'].max(), 100)\n",
    "\n",
    "# Predict y values using the fitted models\n",
    "y_cubic = np.polyval(cubic_fit, x_values)\n",
    "y_linear = linear_regressor.predict(x_values.reshape(-1, 1))\n",
    "y_higher_degree = np.polyval(coeffs_higher_degree, x_values)\n",
    "\n",
    "# Ensure that negative predicted values are set to zero\n",
    "y_cubic[y_cubic < 0] = 0\n",
    "y_linear[y_linear < 0] = 0\n",
    "y_higher_degree[y_higher_degree < 0] = 0"
   ]
  },
  {
   "attachments": {},
   "cell_type": "markdown",
   "id": "529f5389-9e89-4ffe-afa1-d1ab546fe890",
   "metadata": {},
   "source": [
    "## Plot the Data in a Scatterplot\n",
    "\n",
    "Be sure to change the title so that it matches the data that has been plotted."
   ]
  },
  {
   "cell_type": "code",
   "execution_count": null,
   "id": "a831e786-626e-4b49-b1ec-3098ad610f8a",
   "metadata": {},
   "outputs": [],
   "source": [
    "# Create the plot\n",
    "plt.figure(figsize=(12, 8))\n",
    "plt.scatter(data['Absence_Percentage'], data['Semester_Total'], alpha=0.7, label='Data')\n",
    "plt.plot(x_values, y_cubic, color='green', label='Cubic Regression')\n",
    "plt.plot(x_values, y_linear, color='blue', label='Linear Regression')\n",
    "plt.plot(x_values, y_higher_degree, color='red', label=f'{degree} Degree Regression')\n",
    "plt.ylim(0, 100)\n",
    "# plt.xlim(0, 25)\n",
    "plt.axhline(y=60, color='gray', linestyle='--', label='Grade Threshold (60)')\n",
    "plt.title('Relationship Between Absence Percentage and Final Grade')\n",
    "plt.xlabel('Absence Percentage')\n",
    "plt.ylabel('Final Grade (out of 100%)')\n",
    "plt.legend()\n",
    "plt.show()"
   ]
  },
  {
   "cell_type": "markdown",
   "id": "d8f06fef-f502-40e8-ad95-b99bfd821066",
   "metadata": {},
   "source": [
    "## Descriptive Statistics\n",
    "\n",
    "*   `count`: Number of non-NA/null observations\n",
    "*   `mean`: The arithmetic average\n",
    "*   `std`: The standard deviation\n",
    "*   `min`: The smallest (minimum) value\n",
    "*   `25%`: The first quartile (25th percentile)\n",
    "*   `50%`: The median (50th percentile) \n",
    "*   `75%`: The third quartile (75th percentile)\n",
    "*   `max`: The largest (maximum) value"
   ]
  },
  {
   "cell_type": "code",
   "execution_count": null,
   "id": "2c29be7f-3728-4350-a7d1-44a579134110",
   "metadata": {},
   "outputs": [],
   "source": [
    "# Descriptive statistics\n",
    "print(\"Descriptive Statistics for Absence Percentage:\")\n",
    "print(data['Absence_Percentage'].describe())\n",
    "print(\"\\nDescriptive Statistics for Semester Total:\")\n",
    "print(data['Semester_Total'].describe())"
   ]
  },
  {
   "cell_type": "markdown",
   "id": "d5fbc09d-00af-4db3-8d45-2f82f672be02",
   "metadata": {
    "editable": true,
    "slideshow": {
     "slide_type": ""
    },
    "tags": []
   },
   "source": [
    "## Calculate and Display R-Squared Values for Each Model\n",
    "\n",
    "The higher the r-squared value is, the better fit the model is for the data. Based on the data, choose the corresponding regressive model below to isolate each plot."
   ]
  },
  {
   "cell_type": "code",
   "execution_count": null,
   "id": "769c306d-c7f0-4b0e-9d75-e784204482a7",
   "metadata": {},
   "outputs": [],
   "source": [
    "# Calculate and display R-squared values for each model\n",
    "r2_cubic = r2_score(data['Semester_Total'], np.polyval(cubic_fit, data['Absence_Percentage']))\n",
    "r2_linear = linear_regressor.score(data['Absence_Percentage'].values.reshape(-1, 1), data['Semester_Total'])\n",
    "r2_higher_degree = r2_score(data['Semester_Total'], np.polyval(coeffs_higher_degree, data['Absence_Percentage']))\n",
    "\n",
    "print(\"\\nR-squared values:\")\n",
    "print(f\"Cubic Regression: {r2_cubic}\")\n",
    "print(f\"Linear Regression: {r2_linear}\")\n",
    "print(f\"{degree} Degree Regression: {r2_higher_degree}\")"
   ]
  },
  {
   "cell_type": "markdown",
   "id": "c030ab46-724a-4759-9a91-e68758a9c689",
   "metadata": {},
   "source": [
    "# Determine the Best Regression Model\n",
    "\n",
    "Based on the calculations above, the regression model with the highest number should be the best fit for the scatterplot. Run the corresponding cell in order to replot the correct model."
   ]
  },
  {
   "cell_type": "markdown",
   "id": "1127b119-30f0-460c-a4a4-658680ddb45c",
   "metadata": {},
   "source": [
    "## Cubic Regression Model\n",
    "\n",
    "Use the cubic coefficients obtained from the previous cells. If you haven't saved them, rerun the calculation."
   ]
  },
  {
   "cell_type": "code",
   "execution_count": null,
   "id": "25cddc1a-fe68-4267-8888-ad070511f773",
   "metadata": {},
   "outputs": [],
   "source": [
    "cubic_fit = np.polyfit(data['Absence_Percentage'], data['Semester_Total'], 3)\n",
    "\n",
    "# Generate x values (Absence Percentage) for prediction\n",
    "x_values = np.linspace(data['Absence_Percentage'].min(), data['Absence_Percentage'].max(), 100)\n",
    "\n",
    "# Predict y values using the cubic model\n",
    "y_cubic = np.polyval(cubic_fit, x_values)\n",
    "y_cubic[y_cubic < 0] = 0  # Ensuring non-negative predictions\n",
    "\n",
    "# Re-create the plot with only the cubic regression\n",
    "plt.figure(figsize=(12, 8))\n",
    "plt.scatter(data['Absence_Percentage'], data['Semester_Total'], alpha=0.7, label='Data')\n",
    "plt.plot(x_values, y_cubic, color='green', label='Cubic Regression')\n",
    "plt.ylim(0, 100)\n",
    "plt.axhline(y=60, color='gray', linestyle='--', label='Grade Threshold (60)')\n",
    "plt.title('Relationship Between Absence Percentage and Final Grade (BLP - M)')\n",
    "plt.xlabel('Absence Percentage')\n",
    "plt.ylabel('Final Grade (out of 100%)')\n",
    "plt.legend()\n",
    "plt.show()"
   ]
  },
  {
   "cell_type": "markdown",
   "id": "a4ae1c3a-f0d0-4581-b11e-3a774b89fc54",
   "metadata": {},
   "source": [
    "## Linear Regression Model\n",
    "If the linear model was chosen as the best, use its coefficients. If you haven't saved the model, you might need to fit it again."
   ]
  },
  {
   "cell_type": "code",
   "execution_count": null,
   "id": "1eb0174a-630c-4182-bfa9-a759643f5f92",
   "metadata": {},
   "outputs": [],
   "source": [
    "linear_regressor = LinearRegression()\n",
    "linear_regressor.fit(data['Absence_Percentage'].values.reshape(-1, 1), data['Semester_Total'])\n",
    "\n",
    "# Generate x values (Absence Percentage) for prediction\n",
    "x_values = np.linspace(data['Absence_Percentage'].min(), data['Absence_Percentage'].max(), 100)\n",
    "\n",
    "# Predict y values using the linear model\n",
    "y_linear = linear_regressor.predict(x_values.reshape(-1, 1))\n",
    "y_linear[y_linear < 0] = 0  # Ensuring non-negative predictions\n",
    "\n",
    "# Re-create the plot with only the linear regression\n",
    "plt.figure(figsize=(12, 8))\n",
    "plt.scatter(data['Absence_Percentage'], data['Semester_Total'], alpha=0.7, label='Data')\n",
    "plt.plot(x_values, y_linear, color='blue', label='Linear Regression')\n",
    "plt.ylim(0, 100)\n",
    "plt.axhline(y=60, color='gray', linestyle='--', label='Grade Threshold (60)')\n",
    "plt.title('Relationship Between Absence Percentage and Final Grade')\n",
    "plt.xlabel('Absence Percentage')\n",
    "plt.ylabel('Final Grade (out of 100%)')\n",
    "plt.legend()\n",
    "plt.show()"
   ]
  },
  {
   "cell_type": "markdown",
   "id": "6cebbac3-ad32-4629-98eb-238765295f50",
   "metadata": {},
   "source": [
    "## Higher Degree Polynomial Regression\n",
    "\n",
    "If the higher-degree polynomial was chosen as the best, use its coefficients. If you haven't saved the coefficients, you might need to fit it again."
   ]
  },
  {
   "cell_type": "code",
   "execution_count": null,
   "id": "524c046e-1b47-4012-9680-ee6a47690c0c",
   "metadata": {},
   "outputs": [],
   "source": [
    "degree = 5  # Or whatever degree was determined to be best\n",
    "coeffs_higher_degree = np.polyfit(data['Absence_Percentage'], data['Semester_Total'], degree)\n",
    "\n",
    "# Generate x values (Absence Percentage) for prediction\n",
    "x_values = np.linspace(data['Absence_Percentage'].min(), data['Absence_Percentage'].max(), 100)\n",
    "\n",
    "# Predict y values using the higher-degree polynomial model\n",
    "y_higher_degree = np.polyval(coeffs_higher_degree, x_values)\n",
    "y_higher_degree[y_higher_degree < 0] = 0  # Ensuring non-negative predictions\n",
    "\n",
    "# Re-create the plot with only the higher-degree polynomial regression\n",
    "plt.figure(figsize=(12, 8))\n",
    "plt.scatter(data['Absence_Percentage'], data['Semester_Total'], alpha=0.7, label='Data')\n",
    "plt.plot(x_values, y_higher_degree, color='red', label=f'{degree} Degree Regression')\n",
    "plt.ylim(0, 100)\n",
    "# plt.xlim(0, 25)\n",
    "plt.axhline(y=60, color='gray', linestyle='--', label='Grade Threshold (60)')\n",
    "plt.title(f'Relationship Between Absence Percentage and Final Grade (Applied College - M)')\n",
    "plt.xlabel('Absence Percentage')\n",
    "plt.ylabel('Final Grade (out of 100%)')\n",
    "plt.legend()\n",
    "plt.show()\n"
   ]
  },
  {
   "cell_type": "markdown",
   "id": "27a0a432-176c-4360-8980-04a23639f52c",
   "metadata": {},
   "source": [
    "## No Correlation\n",
    "\n",
    "If none of the lines appears to show a correct correlation, here, you can print the chart without a line."
   ]
  },
  {
   "cell_type": "code",
   "execution_count": null,
   "id": "92fa2c9d-a7b5-48fc-a214-ab87acfb2d33",
   "metadata": {},
   "outputs": [],
   "source": [
    "# Generate x values (Absence Percentage) for prediction\n",
    "x_values = np.linspace(data['Absence_Percentage'].min(), data['Absence_Percentage'].max(), 100)\n",
    "\n",
    "# Predict y values using the higher-degree polynomial model\n",
    "y_higher_degree = np.polyval(coeffs_higher_degree, x_values)\n",
    "y_higher_degree[y_higher_degree < 0] = 0  # Ensuring non-negative predictions\n",
    "\n",
    "# Re-create the plot with only the higher-degree polynomial regression\n",
    "plt.figure(figsize=(12, 8))\n",
    "plt.scatter(data['Absence_Percentage'], data['Semester_Total'], alpha=0.7, label='Data')\n",
    "plt.ylim(0, 100)\n",
    "plt.axhline(y=60, color='gray', linestyle='--', label='Grade Threshold (60)')\n",
    "plt.title(f'Relationship Between Absence Percentage and Final Grade (Applied College - M)')\n",
    "plt.xlabel('Absence Percentage')\n",
    "plt.ylabel('Final Grade (out of 100%)')\n",
    "plt.legend()\n",
    "plt.show()"
   ]
  },
  {
   "cell_type": "markdown",
   "id": "30a5d9c5-2c91-465f-a185-ae29c935b455",
   "metadata": {},
   "source": [
    "This Python notebook was created by S. Hatting for the University of Tabuk's English Language Institute in December 2023."
   ]
  }
 ],
 "metadata": {
  "kernelspec": {
   "display_name": "Python 3 (ipykernel)",
   "language": "python",
   "name": "python3"
  },
  "language_info": {
   "codemirror_mode": {
    "name": "ipython",
    "version": 3
   },
   "file_extension": ".py",
   "mimetype": "text/x-python",
   "name": "python",
   "nbconvert_exporter": "python",
   "pygments_lexer": "ipython3",
   "version": "3.11.4"
  }
 },
 "nbformat": 4,
 "nbformat_minor": 5
}
